{
 "cells": [
  {
   "cell_type": "markdown",
   "metadata": {},
   "source": [
    "# W2_D1_Session5_Assignment_3.21442"
   ]
  },
  {
   "cell_type": "markdown",
   "metadata": {},
   "source": [
    "### Problem 1"
   ]
  },
  {
   "cell_type": "code",
   "execution_count": 4,
   "metadata": {},
   "outputs": [
    {
     "name": "stdout",
     "output_type": "stream",
     "text": [
      "Divided by Zero Error\n"
     ]
    }
   ],
   "source": [
    "#Function for division.\n",
    "def divide(numerator, denomenator):\n",
    "    try:\n",
    "        res = (numerator / denomenator)\n",
    "        print('Result is: ', res)\n",
    "    except:\n",
    "        print('Divided by Zero Error')\n",
    "\n",
    "divide(5, 0)"
   ]
  },
  {
   "cell_type": "markdown",
   "metadata": {},
   "source": [
    "### Problem 2"
   ]
  },
  {
   "cell_type": "code",
   "execution_count": 24,
   "metadata": {},
   "outputs": [
    {
     "name": "stdout",
     "output_type": "stream",
     "text": [
      "Americans Play Baseball\n",
      "Americans Play cricket\n",
      "Americans watch Baseball\n",
      "Americans watch cricket\n",
      "Indians Play Baseball\n",
      "Indians Play cricket\n",
      "Indians watch Baseball\n",
      "Indians watch cricket\n"
     ]
    }
   ],
   "source": [
    "def getSentance(subject_lst, verb_lst, obj_lst):\n",
    "    sentence_list = [(subject+\" \"+ verb + \" \" + obj) for subject in subject_lst for verb in verb_lst for obj in obj_lst]\n",
    "    return sentence_list\n",
    "            \n",
    "subject_lst = [\"Americans\", \"Indians\"]\n",
    "verb_lst = [\"Play\", \"watch\"]\n",
    "obj_lst = [\"Baseball\",\"cricket\"]\n",
    "sentance_list = getSentance(subject_lst, verb_lst, obj_lst)\n",
    "for sentance in sentance_list:\n",
    "    print(sentance)"
   ]
  },
  {
   "cell_type": "code",
   "execution_count": null,
   "metadata": {},
   "outputs": [],
   "source": []
  }
 ],
 "metadata": {
  "kernelspec": {
   "display_name": "Python 3",
   "language": "python",
   "name": "python3"
  },
  "language_info": {
   "codemirror_mode": {
    "name": "ipython",
    "version": 3
   },
   "file_extension": ".py",
   "mimetype": "text/x-python",
   "name": "python",
   "nbconvert_exporter": "python",
   "pygments_lexer": "ipython3",
   "version": "3.7.0"
  }
 },
 "nbformat": 4,
 "nbformat_minor": 2
}
